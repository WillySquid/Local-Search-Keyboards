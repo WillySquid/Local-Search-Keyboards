{
 "cells": [
  {
   "cell_type": "code",
   "execution_count": 7,
   "metadata": {},
   "outputs": [],
   "source": [
    "import numpy as np\n",
    "import random"
   ]
  },
  {
   "cell_type": "code",
   "execution_count": 10,
   "metadata": {
    "scrolled": true
   },
   "outputs": [],
   "source": [
    "def opti(bf, d):\n",
    "    #the main body of the simulated annealing optimization\n",
    "    #bf is the list of bigraph frequencies\n",
    "    #d is the dictionary of key-pair costs\n",
    "    old_kb = rand_kboard()\n",
    "    new_kb = old_kb\n",
    "    repeat = 0\n",
    "    do_more = True\n",
    "    t = 1\n",
    "    y = []\n",
    "    while do_more:\n",
    "        new_kb = take_a_step(old_kb, t)\n",
    "        if t%500 == 0:\n",
    "            print(score(new_kb, bf, d))\n",
    "            print(repeat)\n",
    "        if new_kb == old_kb:\n",
    "            repeat += 1\n",
    "\n",
    "        if repeat > 1000:\n",
    "            options = any_left(new_kb, bf, d)\n",
    "            possible = []\n",
    "            for s in options:\n",
    "                if is_possible(s, swap(s, new_kb), bf, d):\n",
    "                    possible.append(s)\n",
    "            if len(possible) > 0:\n",
    "                new_kb = swap(possible[0], old_kb)\n",
    "                repeat = 0\n",
    "            else:\n",
    "                do_more = False\n",
    "\n",
    "\n",
    "        old_kb = new_kb\n",
    "        y.append(score(new_kb, bf, d))\n",
    "        t+=1\n",
    "    x = range(t-1)\n",
    "\n",
    "    import matplotlib.pyplot as plt\n",
    "    plt.plot(y,'.')\n",
    "    plt.show()"
   ]
  },
  {
   "cell_type": "code",
   "execution_count": 15,
   "metadata": {},
   "outputs": [],
   "source": [
    "keys = ['q', 'w', 'e', 'r', 't', 'y', 'u', 'i', 'o', 'p', 'a', 's', 'd', 'f', 'g', 'h', 'j', 'k', 'l', 'z', 'x', 'c', 'v', 'b', 'n', 'm', ';', ',', '.', '/']"
   ]
  },
  {
   "cell_type": "code",
   "execution_count": 20,
   "metadata": {},
   "outputs": [],
   "source": [
    "def is_possible(s, kboard, bf, rm):\n",
    "    #tells whether swap s results in a keyboard with a possible swap of improvement\n",
    "    l = swap(s, kboard)\n",
    "    for pair in full_list():\n",
    "        m = swap(pair, kboard)\n",
    "        if score(m, bf, d) < score(l, bf, d):\n",
    "            return True\n",
    "    return False"
   ]
  },
  {
   "cell_type": "code",
   "execution_count": 19,
   "metadata": {},
   "outputs": [],
   "source": [
    "def swap(s, kboard):\n",
    "    #returns a keyboard with the given pair of keys swapped\n",
    "    \n",
    "    k1 = s[0]\n",
    "    k2 = s[1]\n",
    "    \n",
    "    s_kboard = {}\n",
    "    for k in kboard:\n",
    "        s_kboard[k] = kboard[k]\n",
    "\n",
    "    s_kboard[k1] = kboard[k2]\n",
    "    s_kboard[k2] = kboard[k1]\n",
    "\n",
    "    \n",
    "    return(s_kboard)"
   ]
  },
  {
   "cell_type": "code",
   "execution_count": 18,
   "metadata": {
    "scrolled": false
   },
   "outputs": [],
   "source": [
    "def temp(k):\n",
    "    #temperature function\n",
    "    return 0.00000001 * 0.9999**k\n",
    "\n",
    "def prob(e1,e2,t):\n",
    "    #probability function\n",
    "    return np.exp(-8*(e1-e2)/t)\n",
    "    \n",
    "def take_a_step(curr_position, k):\n",
    "    #takes one step according to the algorithm of simulated annealing\n",
    "    curr_cost = score(curr_position, bf, d)\n",
    "    cost_hist =[]\n",
    "    \n",
    "    p = swap_rand(curr_position)\n",
    "    new_cost = score(p, bf, d)\n",
    "    pr = prob(new_cost,curr_cost,temp(k))\n",
    "    if pr>float(np.random.random(1)):\n",
    "        curr_position    = p\n",
    "        curr_cost  = new_cost\n",
    "        cost_hist.append(curr_cost)\n",
    "    \n",
    "    return(curr_position)"
   ]
  },
  {
   "cell_type": "code",
   "execution_count": 5,
   "metadata": {},
   "outputs": [],
   "source": [
    "def any_left(kboard, bf, rm):\n",
    "    #returns a better swap if possible, otherwise it returns a list of lateral swaps (those that don't change the score)\n",
    "    import random\n",
    "    laterals = []\n",
    "    \n",
    "    s1 = score(kboard, bf, rm)\n",
    "    s_kboard = {}\n",
    "    for k in kboard:\n",
    "        s_kboard[k] = kboard[k]\n",
    "    \n",
    "    for s in full_list():\n",
    "        k1 = s[0]\n",
    "        k2 = s[1]\n",
    "\n",
    "        s_kboard[k1] = kboard[k2]\n",
    "        s_kboard[k2] = kboard[k1]\n",
    "    \n",
    "        s2 = score(s_kboard, bf, rm)\n",
    "\n",
    "        if s2 < s1:\n",
    "            return [s]\n",
    "        if s2 == s1:\n",
    "            laterals.append(s)\n",
    "    \n",
    "    return laterals"
   ]
  },
  {
   "cell_type": "code",
   "execution_count": 4,
   "metadata": {},
   "outputs": [],
   "source": [
    "def full_list():\n",
    "    #returns the entire list of possible swaps in lists of two keys\n",
    "    full = []\n",
    "    \n",
    "    for k1 in keys:\n",
    "        for k2 in keys:\n",
    "            if keys.index(k1) < keys.index(k2):\n",
    "                full.append([k1, k2])\n",
    "    return full"
   ]
  },
  {
   "cell_type": "code",
   "execution_count": 3,
   "metadata": {},
   "outputs": [],
   "source": [
    "def score(kboard, bigram_freqs, key_times):\n",
    "    #returns the score of a keyboard\n",
    "    keys = ['q', 'w', 'e', 'r', 't', 'y', 'u', 'i', 'o', 'p', 'a', 's', 'd', 'f', 'g', 'h', 'j', 'k', 'l', 'z', 'x', 'c', 'v', 'b', 'n', 'm', ';', ',', '.', '/']\n",
    "    nogo = [';', ',', '.', '/']\n",
    "    t = 0\n",
    "    for i in keys:\n",
    "        char1 = kboard[i]\n",
    "        for j in keys:\n",
    "            char2 = kboard[j]\n",
    "            if char1 not in nogo and char2 not in nogo:\n",
    "                freq = bigram_freqs[char1 + char2]\n",
    "            else:\n",
    "                freq = 0\n",
    "            try:\n",
    "                cost = key_times[i + j]\n",
    "            except:\n",
    "                cost = key_times[j + i]\n",
    "            \n",
    "            t += float(cost) * freq\n",
    "    return t"
   ]
  },
  {
   "cell_type": "code",
   "execution_count": 2,
   "metadata": {},
   "outputs": [],
   "source": [
    "def swap_rand(kboard):\n",
    "    #returns a keyboard with two random keys swapped\n",
    "    keys = ['q', 'w', 'e', 'r', 't', 'y', 'u', 'i', 'o', 'p', 'a', 's', 'd', 'f', 'g', 'h', 'j', 'k', 'l', 'z', 'x', 'c', 'v', 'b', 'n', 'm', ';', ',', '.', '/']\n",
    "\n",
    "    a_kboard = {}\n",
    "    \n",
    "    i1 = random.randint(0, 29)\n",
    "    i2 = random.randint(0, 29)\n",
    "    \n",
    "    k1 = keys[i1]\n",
    "    k2 = keys[i2]\n",
    "    \n",
    "    for k in kboard:\n",
    "        a_kboard[k] = kboard[k]\n",
    "        \n",
    "    a_kboard[k1], a_kboard[k2] = a_kboard[k2], a_kboard[k1]\n",
    "    \n",
    "    return a_kboard"
   ]
  },
  {
   "cell_type": "code",
   "execution_count": 1,
   "metadata": {},
   "outputs": [],
   "source": [
    "def rand_kboard():\n",
    "    #returns random keyboard\n",
    "    keys = ['q', 'w', 'e', 'r', 't', 'y', 'u', 'i', 'o', 'p', 'a', 's', 'd', 'f', 'g', 'h', 'j', 'k', 'l', 'z', 'x', 'c', 'v', 'b', 'n', 'm', ';', ',', '.', '/']\n",
    "    values = ['q', 'w', 'e', 'r', 't', 'y', 'u', 'i', 'o', 'p', 'a', 's', 'd', 'f', 'g', 'h', 'j', 'k', 'l', 'z', 'x', 'c', 'v', 'b', 'n', 'm', ';', ',', '.', '/']\n",
    "    kboard = {}\n",
    "\n",
    "    import random\n",
    "    for k in range(30):\n",
    "        n = random.randint(0, len(values)-1)\n",
    "        kboard[keys[k]] = values[n]\n",
    "        values.remove(values[n])\n",
    "    \n",
    "    return kboard"
   ]
  }
 ],
 "metadata": {
  "kernelspec": {
   "display_name": "Python 3",
   "language": "python",
   "name": "python3"
  },
  "language_info": {
   "codemirror_mode": {
    "name": "ipython",
    "version": 3
   },
   "file_extension": ".py",
   "mimetype": "text/x-python",
   "name": "python",
   "nbconvert_exporter": "python",
   "pygments_lexer": "ipython3",
   "version": "3.7.3"
  }
 },
 "nbformat": 4,
 "nbformat_minor": 2
}
