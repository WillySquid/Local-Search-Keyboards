{
 "cells": [
  {
   "cell_type": "code",
   "execution_count": 1,
   "metadata": {},
   "outputs": [],
   "source": [
    "def display(kboard):\n",
    "    #helps to visualize keyboard layouts\n",
    "    #layout is represented by a dictionary whose keys are the letters assigned by QWERTY, see example\n",
    "    l = list(kboard.values())\n",
    "    row1 = l[:10]\n",
    "    row2 = l[10:20]\n",
    "    row3 = l[20:]\n",
    "    \n",
    "    str1 = ''\n",
    "    for k in row1:\n",
    "        str1 += k + '  |  '\n",
    "    print(str1)\n",
    "    \n",
    "    print(60*'-')\n",
    "    \n",
    "    str2 = ' '\n",
    "    for k in row2:\n",
    "        str2 += k + '  |  '\n",
    "    print(str2)\n",
    "    \n",
    "    print(60*'-')\n",
    "    \n",
    "    str3 = '   '\n",
    "    for k in row3:\n",
    "        str3 += k + '  |  '\n",
    "    print(str3)"
   ]
  },
  {
   "cell_type": "code",
   "execution_count": 3,
   "metadata": {},
   "outputs": [
    {
     "name": "stdout",
     "output_type": "stream",
     "text": [
      "x  |  s  |  f  |  t  |  g  |  h  |  m  |  e  |  a  |  .  |  \n",
      "------------------------------------------------------------\n",
      " ;  |  j  |  c  |  d  |  b  |  v  |  r  |  i  |  o  |  n  |  \n",
      "------------------------------------------------------------\n",
      "   y  |  z  |  w  |  p  |  /  |  k  |  l  |  u  |  q  |  ,  |  \n"
     ]
    }
   ],
   "source": [
    "display(example)"
   ]
  },
  {
   "cell_type": "code",
   "execution_count": 2,
   "metadata": {},
   "outputs": [],
   "source": [
    "example = {'q': 'x',\n",
    "  'w': 's',\n",
    "  'e': 'f',\n",
    "  'r': 't',\n",
    "  't': 'g',\n",
    "  'y': 'h',\n",
    "  'u': 'm',\n",
    "  'i': 'e',\n",
    "  'o': 'a',\n",
    "  'p': '.',\n",
    "  'a': ';',\n",
    "  's': 'j',\n",
    "  'd': 'c',\n",
    "  'f': 'd',\n",
    "  'g': 'b',\n",
    "  'h': 'v',\n",
    "  'j': 'r',\n",
    "  'k': 'i',\n",
    "  'l': 'o',\n",
    "  ';': 'n',\n",
    "  'z': 'y',\n",
    "  'x': 'z',\n",
    "  'c': 'w',\n",
    "  'v': 'p',\n",
    "  'b': '/',\n",
    "  'n': 'k',\n",
    "  'm': 'l',\n",
    "  ',': 'u',\n",
    "  '.': 'q',\n",
    "  '/': ','}"
   ]
  }
 ],
 "metadata": {
  "kernelspec": {
   "display_name": "Python 3",
   "language": "python",
   "name": "python3"
  },
  "language_info": {
   "codemirror_mode": {
    "name": "ipython",
    "version": 3
   },
   "file_extension": ".py",
   "mimetype": "text/x-python",
   "name": "python",
   "nbconvert_exporter": "python",
   "pygments_lexer": "ipython3",
   "version": "3.7.3"
  }
 },
 "nbformat": 4,
 "nbformat_minor": 2
}
