{
 "cells": [
  {
   "cell_type": "code",
   "execution_count": 15,
   "metadata": {},
   "outputs": [],
   "source": [
    "import numpy as np"
   ]
  },
  {
   "cell_type": "code",
   "execution_count": 16,
   "metadata": {},
   "outputs": [],
   "source": [
    "dist_list = []"
   ]
  },
  {
   "cell_type": "code",
   "execution_count": 29,
   "metadata": {},
   "outputs": [],
   "source": [
    "#kbs is a list of the top 100 keyboard layouts"
   ]
  },
  {
   "cell_type": "code",
   "execution_count": 19,
   "metadata": {},
   "outputs": [],
   "source": [
    "for k1 in kbs:\n",
    "    for k2 in kbs:\n",
    "        dist_list.append(dist(make_coord(k1), make_coord(k2)))"
   ]
  },
  {
   "cell_type": "code",
   "execution_count": 20,
   "metadata": {},
   "outputs": [],
   "source": [
    "matrix = []\n",
    "for i in range(100):\n",
    "    matrix.append(dist_list[i*100:100*(i+1)])"
   ]
  },
  {
   "cell_type": "code",
   "execution_count": 21,
   "metadata": {},
   "outputs": [],
   "source": [
    "#necessary functions\n",
    "def dist(c1, c2):\n",
    "    total = 0\n",
    "    for k in c1:\n",
    "        total += pt_dist(c1[k], c2[k])\n",
    "    return total\n",
    "\n",
    "def pt_dist(p1, p2):\n",
    "    total = 0\n",
    "    for i in range(len(p1)):\n",
    "        total += (p1[i] - p2[i])**2\n",
    "    return np.sqrt(total)\n",
    "\n",
    "def make_coord(kb):\n",
    "    new = {}\n",
    "    for k in kb:\n",
    "        new[kb[k]] = coords[k]\n",
    "    return new\n",
    "\n",
    "#assigns each key labelled by their letter on the QWERTY keyboard a coordinate\n",
    "coords = {'q': (0, 1),\n",
    "  'w': (1, 1),\n",
    "  'e': (2, 1),\n",
    "  'r': (3, 1),\n",
    "  't': (4, 1),\n",
    "  'y': (5, 1),\n",
    "  'u': (6, 1),\n",
    "  'i': (7, 1),\n",
    "  'o': (8, 1),\n",
    "  'p': (9, 1),\n",
    "  'a': (0.25, 0),\n",
    "  's': (1.25, 0),\n",
    "  'd': (2.25, 0),\n",
    "  'f': (3.25, 0),\n",
    "  'g': (4.25, 0),\n",
    "  'h': (5.25, 0),\n",
    "  'j': (6.25, 0),\n",
    "  'k': (7.25, 0),\n",
    "  'l': (8.25, 0),\n",
    "  ';': (9.25, 0),\n",
    "  'z': (0.75, -1),\n",
    "  'x': (1.75, -1),\n",
    "  'c': (2.75, -1),\n",
    "  'v': (3.75, -1),\n",
    "  'b': (4.75, -1),\n",
    "  'n': (5.75, -1),\n",
    "  'm': (6.75, -1),\n",
    "  ',': (7.75, -1),\n",
    "  '.': (8.75, -1),\n",
    "  '/': (9.75, -1)}"
   ]
  }
 ],
 "metadata": {
  "kernelspec": {
   "display_name": "Python 3",
   "language": "python",
   "name": "python3"
  },
  "language_info": {
   "codemirror_mode": {
    "name": "ipython",
    "version": 3
   },
   "file_extension": ".py",
   "mimetype": "text/x-python",
   "name": "python",
   "nbconvert_exporter": "python",
   "pygments_lexer": "ipython3",
   "version": "3.7.3"
  }
 },
 "nbformat": 4,
 "nbformat_minor": 2
}
