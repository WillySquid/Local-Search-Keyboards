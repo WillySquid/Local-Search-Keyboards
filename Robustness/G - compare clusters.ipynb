{
 "cells": [
  {
   "cell_type": "code",
   "execution_count": 2,
   "metadata": {},
   "outputs": [],
   "source": [
    "import numpy as np"
   ]
  },
  {
   "cell_type": "code",
   "execution_count": 14,
   "metadata": {},
   "outputs": [],
   "source": [
    "#clusters is a list of lists. each element contains first a cluster number, then a keyboard layout"
   ]
  },
  {
   "cell_type": "code",
   "execution_count": 63,
   "metadata": {},
   "outputs": [],
   "source": [
    "#kbs is a list of the top 100 keyboard layout"
   ]
  },
  {
   "cell_type": "code",
   "execution_count": 65,
   "metadata": {},
   "outputs": [],
   "source": [
    "#useful tool for comparing clusters visually\n",
    "def print_cluster(c):\n",
    "    for l in clusters:\n",
    "        if l[0] == c:\n",
    "            display(kbs[l[1]])\n",
    "            print()\n",
    "            print()"
   ]
  },
  {
   "cell_type": "code",
   "execution_count": 16,
   "metadata": {},
   "outputs": [],
   "source": [
    "def display(kboard):\n",
    "    #helps to visualize keyboard layouts\n",
    "    #layout is represented by a dictionary whose keys are the letters assigned by QWERTY, see example\n",
    "    l = list(kboard.values())\n",
    "    row1 = l[:10]\n",
    "    row2 = l[10:20]\n",
    "    row3 = l[20:]\n",
    "    \n",
    "    str1 = ''\n",
    "    for k in row1:\n",
    "        str1 += k + '  |  '\n",
    "    print(str1)\n",
    "    \n",
    "    print(60*'-')\n",
    "    \n",
    "    str2 = ' '\n",
    "    for k in row2:\n",
    "        str2 += k + '  |  '\n",
    "    print(str2)\n",
    "    \n",
    "    print(60*'-')\n",
    "    \n",
    "    str3 = '   '\n",
    "    for k in row3:\n",
    "        str3 += k + '  |  '\n",
    "    print(str3)"
   ]
  }
 ],
 "metadata": {
  "kernelspec": {
   "display_name": "Python 3",
   "language": "python",
   "name": "python3"
  },
  "language_info": {
   "codemirror_mode": {
    "name": "ipython",
    "version": 3
   },
   "file_extension": ".py",
   "mimetype": "text/x-python",
   "name": "python",
   "nbconvert_exporter": "python",
   "pygments_lexer": "ipython3",
   "version": "3.7.3"
  }
 },
 "nbformat": 4,
 "nbformat_minor": 2
}
