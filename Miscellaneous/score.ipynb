{
 "cells": [
  {
   "cell_type": "code",
   "execution_count": null,
   "metadata": {},
   "outputs": [],
   "source": [
    "def score(kboard, bigram_freqs, key_times):\n",
    "    #returns the score of a keyboard\n",
    "    \n",
    "    #kboard is the dictionary encoding the layout\n",
    "    #bigram_freqs is the dictionary of bigram frequencies\n",
    "    #key_times is the dictionary of key-pair costs\n",
    "    \n",
    "    keys = ['q', 'w', 'e', 'r', 't', 'y', 'u', 'i', 'o', 'p', 'a', 's', 'd', 'f', 'g', 'h', 'j', 'k', 'l', 'z', 'x', 'c', 'v', 'b', 'n', 'm', ';', ',', '.', '/']\n",
    "    nogo = [';', ',', '.', '/']\n",
    "    t = 0\n",
    "    for i in keys:\n",
    "        char1 = kboard[i]\n",
    "        for j in keys:\n",
    "            char2 = kboard[j]\n",
    "            if char1 not in nogo and char2 not in nogo:\n",
    "                freq = bigram_freqs[char1 + char2]\n",
    "            else:\n",
    "                freq = 0\n",
    "            try:\n",
    "                cost = key_times[i + j]\n",
    "            except:\n",
    "                cost = key_times[j + i]\n",
    "            \n",
    "            t += float(cost) * freq\n",
    "    return t"
   ]
  }
 ],
 "metadata": {
  "kernelspec": {
   "display_name": "Python 3",
   "language": "python",
   "name": "python3"
  },
  "language_info": {
   "codemirror_mode": {
    "name": "ipython",
    "version": 3
   },
   "file_extension": ".py",
   "mimetype": "text/x-python",
   "name": "python",
   "nbconvert_exporter": "python",
   "pygments_lexer": "ipython3",
   "version": "3.7.3"
  }
 },
 "nbformat": 4,
 "nbformat_minor": 2
}
