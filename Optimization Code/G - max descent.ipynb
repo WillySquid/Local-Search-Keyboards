{
 "cells": [
  {
   "cell_type": "code",
   "execution_count": 7,
   "metadata": {},
   "outputs": [],
   "source": [
    "letters = ['q', 'w', 'e', 'r', 't', 'y', 'u', 'i', 'o', 'p', 'a', 's', 'd', 'f', 'g', 'h', 'j', 'k', 'l', ';', 'z', 'x', 'c', 'v', 'b', 'n', 'm', ',', '.', '/']"
   ]
  },
  {
   "cell_type": "code",
   "execution_count": 3,
   "metadata": {},
   "outputs": [],
   "source": [
    "def opti(bf, rm):\n",
    "    #main body of steepes descent optimization\n",
    "    \n",
    "    #bf is the dictionary of bigram frequencies\n",
    "    #rm is the dictionary of key-pair costs\n",
    "    \n",
    "    kboard = rand_kboard()\n",
    "    old_score = score(kboard, bf, rm)\n",
    "    top_score = old_score\n",
    "    top_kboard = {}\n",
    "    for a in list(kboard):\n",
    "        top_kboard[a] = kboard[a]\n",
    "        \n",
    "    keys = list(kboard)\n",
    "    \n",
    "    history = []\n",
    "    while top_score <= old_score:\n",
    "        old_score = score(top_kboard, bf, rm)\n",
    "        #print(old_score)\n",
    "        for a in keys:\n",
    "            for b in keys[keys.index(a):]:\n",
    "                new_kboard = swap(kboard, a, b)\n",
    "                new_score = score(new_kboard, bf, rm)\n",
    "                if new_score <= top_score:\n",
    "                    top_kboard = new_kboard\n",
    "                    top_score = new_score\n",
    "                    swapped_pair = [a, b]\n",
    "        kboard = top_kboard\n",
    "        top_score = score(kboard, bf, rm)\n",
    "        history.append(top_score)\n",
    "        if len(history) > 4:\n",
    "            if len(set(history[-5:])) == 1:\n",
    "                return top_kboard\n",
    "    return top_kboard"
   ]
  },
  {
   "cell_type": "code",
   "execution_count": 4,
   "metadata": {},
   "outputs": [],
   "source": [
    "def swap(kboard, k1, k2):\n",
    "    #returns keyboard with keys k1 and k2 swapped\n",
    "    a_kboard = {}\n",
    "    for k in kboard:\n",
    "        a_kboard[k] = kboard[k]\n",
    "    a_kboard[k1], a_kboard[k2] = a_kboard[k2], a_kboard[k1]\n",
    "    \n",
    "    return a_kboard"
   ]
  },
  {
   "cell_type": "code",
   "execution_count": 5,
   "metadata": {},
   "outputs": [],
   "source": [
    "def rand_kboard():\n",
    "    #returns a random keyboard\n",
    "    keys = ['q', 'w', 'e', 'r', 't', 'y', 'u', 'i', 'o', 'p', 'a', 's', 'd', 'f', 'g', 'h', 'j', 'k', 'l', ';', 'z', 'x', 'c', 'v', 'b', 'n', 'm', ',', '.', '/']\n",
    "    values = ['q', 'w', 'e', 'r', 't', 'y', 'u', 'i', 'o', 'p', 'a', 's', 'd', 'f', 'g', 'h', 'j', 'k', 'l', ';', 'z', 'x', 'c', 'v', 'b', 'n', 'm', ',', '.', '/']\n",
    "    kboard = {}\n",
    "\n",
    "    import random\n",
    "    for k in range(30):\n",
    "        n = random.randint(0, len(values)-1)\n",
    "        kboard[keys[k]] = values[n]\n",
    "        values.remove(values[n])\n",
    "    \n",
    "    return kboard"
   ]
  },
  {
   "cell_type": "code",
   "execution_count": 8,
   "metadata": {},
   "outputs": [],
   "source": [
    "def score(kboard, bigram_freqs, key_times):\n",
    "    #returns the score of a keybaord\n",
    "    keys = ['q', 'w', 'e', 'r', 't', 'y', 'u', 'i', 'o', 'p', 'a', 's', 'd', 'f', 'g', 'h', 'j', 'k', 'l', 'z', 'x', 'c', 'v', 'b', 'n', 'm', ';', ',', '.', '/']\n",
    "    nogo = [';', ',', '.', '/']\n",
    "    t = 0\n",
    "    for i in keys:\n",
    "        char1 = kboard[i]\n",
    "        for j in keys:\n",
    "            char2 = kboard[j]\n",
    "            if char1 not in nogo and char2 not in nogo:\n",
    "                freq = bigram_freqs[char1 + char2]\n",
    "            else:\n",
    "                freq = 0\n",
    "            try:\n",
    "                cost = key_times[i + j]\n",
    "            except:\n",
    "                cost = key_times[j + i]\n",
    "            \n",
    "            t += float(cost) * freq\n",
    "    return t"
   ]
  }
 ],
 "metadata": {
  "kernelspec": {
   "display_name": "Python 3",
   "language": "python",
   "name": "python3"
  },
  "language_info": {
   "codemirror_mode": {
    "name": "ipython",
    "version": 3
   },
   "file_extension": ".py",
   "mimetype": "text/x-python",
   "name": "python",
   "nbconvert_exporter": "python",
   "pygments_lexer": "ipython3",
   "version": "3.7.3"
  }
 },
 "nbformat": 4,
 "nbformat_minor": 2
}
